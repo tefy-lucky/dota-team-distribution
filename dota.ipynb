{
 "cells": [
  {
   "cell_type": "code",
   "execution_count": 1,
   "id": "narrative-estonia",
   "metadata": {},
   "outputs": [],
   "source": [
    "import pandas as pd\n",
    "import numpy as np\n",
    "import random"
   ]
  },
  {
   "cell_type": "code",
   "execution_count": 2,
   "id": "northern-prize",
   "metadata": {},
   "outputs": [],
   "source": [
    "sheet_id = \"1PVYMmQCf1WjRANxRab9YL2dyBuNDPTASki_-t2TDG1M\"\n",
    "sheet_name = \"players\"\n",
    "url = f\"https://docs.google.com/spreadsheets/d/{sheet_id}/gviz/tq?tqx=out:csv&sheet={sheet_name}\""
   ]
  },
  {
   "cell_type": "code",
   "execution_count": 3,
   "id": "forward-portrait",
   "metadata": {},
   "outputs": [
    {
     "data": {
      "text/html": [
       "<div>\n",
       "<style scoped>\n",
       "    .dataframe tbody tr th:only-of-type {\n",
       "        vertical-align: middle;\n",
       "    }\n",
       "\n",
       "    .dataframe tbody tr th {\n",
       "        vertical-align: top;\n",
       "    }\n",
       "\n",
       "    .dataframe thead th {\n",
       "        text-align: right;\n",
       "    }\n",
       "</style>\n",
       "<table border=\"1\" class=\"dataframe\">\n",
       "  <thead>\n",
       "    <tr style=\"text-align: right;\">\n",
       "      <th></th>\n",
       "      <th>Players</th>\n",
       "      <th>Level</th>\n",
       "      <th>Are you playing?</th>\n",
       "    </tr>\n",
       "  </thead>\n",
       "  <tbody>\n",
       "    <tr>\n",
       "      <th>0</th>\n",
       "      <td>aina</td>\n",
       "      <td>3</td>\n",
       "      <td>yes</td>\n",
       "    </tr>\n",
       "    <tr>\n",
       "      <th>1</th>\n",
       "      <td>cathy</td>\n",
       "      <td>1</td>\n",
       "      <td>yes</td>\n",
       "    </tr>\n",
       "    <tr>\n",
       "      <th>2</th>\n",
       "      <td>clamiras</td>\n",
       "      <td>5</td>\n",
       "      <td>yes</td>\n",
       "    </tr>\n",
       "    <tr>\n",
       "      <th>3</th>\n",
       "      <td>denis</td>\n",
       "      <td>1</td>\n",
       "      <td>yes</td>\n",
       "    </tr>\n",
       "    <tr>\n",
       "      <th>6</th>\n",
       "      <td>idealy</td>\n",
       "      <td>2</td>\n",
       "      <td>yes</td>\n",
       "    </tr>\n",
       "    <tr>\n",
       "      <th>7</th>\n",
       "      <td>joy</td>\n",
       "      <td>2</td>\n",
       "      <td>yes</td>\n",
       "    </tr>\n",
       "    <tr>\n",
       "      <th>10</th>\n",
       "      <td>mpanjato</td>\n",
       "      <td>5</td>\n",
       "      <td>yes</td>\n",
       "    </tr>\n",
       "    <tr>\n",
       "      <th>11</th>\n",
       "      <td>ndimby</td>\n",
       "      <td>2</td>\n",
       "      <td>yes</td>\n",
       "    </tr>\n",
       "    <tr>\n",
       "      <th>12</th>\n",
       "      <td>patrick</td>\n",
       "      <td>3</td>\n",
       "      <td>yes</td>\n",
       "    </tr>\n",
       "    <tr>\n",
       "      <th>13</th>\n",
       "      <td>rado</td>\n",
       "      <td>4</td>\n",
       "      <td>yes</td>\n",
       "    </tr>\n",
       "    <tr>\n",
       "      <th>14</th>\n",
       "      <td>ste</td>\n",
       "      <td>5</td>\n",
       "      <td>yes</td>\n",
       "    </tr>\n",
       "    <tr>\n",
       "      <th>15</th>\n",
       "      <td>tahiry</td>\n",
       "      <td>3</td>\n",
       "      <td>yes</td>\n",
       "    </tr>\n",
       "    <tr>\n",
       "      <th>16</th>\n",
       "      <td>tambi</td>\n",
       "      <td>2</td>\n",
       "      <td>yes</td>\n",
       "    </tr>\n",
       "    <tr>\n",
       "      <th>20</th>\n",
       "      <td>tsangy</td>\n",
       "      <td>2</td>\n",
       "      <td>yes</td>\n",
       "    </tr>\n",
       "  </tbody>\n",
       "</table>\n",
       "</div>"
      ],
      "text/plain": [
       "     Players  Level Are you playing?\n",
       "0       aina      3              yes\n",
       "1      cathy      1              yes\n",
       "2   clamiras      5              yes\n",
       "3      denis      1              yes\n",
       "6     idealy      2              yes\n",
       "7        joy      2              yes\n",
       "10  mpanjato      5              yes\n",
       "11    ndimby      2              yes\n",
       "12   patrick      3              yes\n",
       "13      rado      4              yes\n",
       "14       ste      5              yes\n",
       "15    tahiry      3              yes\n",
       "16     tambi      2              yes\n",
       "20    tsangy      2              yes"
      ]
     },
     "execution_count": 3,
     "metadata": {},
     "output_type": "execute_result"
    }
   ],
   "source": [
    "df = pd.read_csv(url)\n",
    "df = df[df[\"Are you playing?\"] == \"yes\"]\n",
    "df"
   ]
  },
  {
   "cell_type": "code",
   "execution_count": 4,
   "id": "official-flower",
   "metadata": {},
   "outputs": [],
   "source": [
    "def divide_almost_equally_into_2(arr):\n",
    "    good = []\n",
    "    bad = []\n",
    "    sum_good = sum_bad = arr_index = 0\n",
    "    while arr_index < len(arr):\n",
    "        if sum_good < sum_bad:\n",
    "            good.append(arr[arr_index])\n",
    "            sum_good += arr[arr_index]\n",
    "        else:\n",
    "            bad.append(arr[arr_index])\n",
    "            sum_bad += arr[arr_index]\n",
    "        arr_index += 1\n",
    "    return good, bad"
   ]
  },
  {
   "cell_type": "code",
   "execution_count": 5,
   "id": "fluid-western",
   "metadata": {},
   "outputs": [
    {
     "name": "stdout",
     "output_type": "stream",
     "text": [
      "[5 5 5 4 3 3 3 2 2 2 2 2 1 1]\n",
      "([5, 4, 3, 3, 2, 2, 1], [5, 5, 3, 2, 2, 2, 1])\n"
     ]
    },
    {
     "data": {
      "text/plain": [
       "{1: ['cathy', 'denis'],\n",
       " 2: ['idealy', 'joy', 'ndimby', 'tambi', 'tsangy'],\n",
       " 3: ['aina', 'patrick', 'tahiry'],\n",
       " 4: ['rado'],\n",
       " 5: ['clamiras', 'mpanjato', 'ste']}"
      ]
     },
     "execution_count": 5,
     "metadata": {},
     "output_type": "execute_result"
    }
   ],
   "source": [
    "reversed_levels = df[\"Level\"].values\n",
    "reversed_levels = df[\"Level\"].sort_values(ascending=False)\n",
    "print(reversed_levels.values)\n",
    "balanced_levels = divide_almost_equally_into_2(reversed_levels.values)\n",
    "print(balanced_levels)\n",
    "\n",
    "level_players = df.groupby(\"Level\")[\"Players\"].apply(list).to_dict()\n",
    "level_players\n",
    "# players_and_level = dict(zip(df[\"Level\"].values, df[\"Players\"].values))\n",
    "# print(players_and_level)"
   ]
  },
  {
   "cell_type": "code",
   "execution_count": 6,
   "id": "moved-complex",
   "metadata": {},
   "outputs": [
    {
     "name": "stdout",
     "output_type": "stream",
     "text": [
      "radiant_level:\t[5, 4, 3, 3, 2, 2, 1]\tCombined levels = 20\n",
      "dire_level:\t[5, 5, 3, 2, 2, 2, 1]\tCombined levels = 20\n"
     ]
    }
   ],
   "source": [
    "radiant_level = balanced_levels[0]\n",
    "dire_level = balanced_levels[1]\n",
    "print(f\"radiant_level:\\t{radiant_level}\\tCombined levels = {sum(radiant_level)}\")\n",
    "print(f\"dire_level:\\t{dire_level}\\tCombined levels = {sum(dire_level)}\")"
   ]
  },
  {
   "cell_type": "code",
   "execution_count": 7,
   "id": "premier-sleep",
   "metadata": {},
   "outputs": [
    {
     "name": "stdout",
     "output_type": "stream",
     "text": [
      "RADIANT\n",
      "Combined Levels = 20\n",
      "Players: ['mpanjato', 'rado', 'tahiry', 'aina', 'tsangy', 'tambi', 'denis']\n",
      "Levels: [5, 4, 3, 3, 2, 2, 1]\n",
      "\n",
      "\n",
      "DIRE\n",
      "Combined levels = 20\n",
      "Players: ['ste', 'clamiras', 'patrick', 'ndimby', 'idealy', 'joy', 'cathy']\n",
      "Levels: [5, 5, 3, 2, 2, 2, 1]\n"
     ]
    }
   ],
   "source": [
    "radiant_players = []\n",
    "dire_players = []\n",
    "for i in radiant_level:\n",
    "    random_player = random.choice(level_players[i])\n",
    "    radiant_players.append(random_player)\n",
    "    level_players[i].remove(random_player)\n",
    "for i in dire_level:\n",
    "    random_player = random.choice(level_players[i])\n",
    "    dire_players.append(random_player)\n",
    "    level_players[i].remove(random_player)\n",
    "print(f\"RADIANT\\r\\nCombined Levels = {sum(radiant_level)}\\r\\nPlayers: {radiant_players}\\r\\nLevels: {radiant_level}\")\n",
    "print(f\"\\r\\n\")\n",
    "print(f\"DIRE\\r\\nCombined levels = {sum(dire_level)}\\r\\nPlayers: {dire_players}\\r\\nLevels: {dire_level}\")"
   ]
  }
 ],
 "metadata": {
  "kernelspec": {
   "display_name": "Python 3",
   "language": "python",
   "name": "python3"
  },
  "language_info": {
   "codemirror_mode": {
    "name": "ipython",
    "version": 3
   },
   "file_extension": ".py",
   "mimetype": "text/x-python",
   "name": "python",
   "nbconvert_exporter": "python",
   "pygments_lexer": "ipython3",
   "version": "3.7.10"
  }
 },
 "nbformat": 4,
 "nbformat_minor": 5
}
